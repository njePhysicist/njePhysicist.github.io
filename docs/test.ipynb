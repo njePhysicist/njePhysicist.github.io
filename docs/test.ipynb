I was confused about why Andrei said the first formula you showed was wrong, so I did some deriving. There are two derivations:

- Variable Lifetime
- Compounding Probablities


# The 'Variable Lifetime' method: 
This is probably the more straighforward method since is uses the known information as soon as it's available.
Start from the standard:

$$dN/N = -dt/\tau^{*}$$

In the rest frame of the particle. Let $\tau^{*} = \tau^{*}(E(s)) = \tau^{*}(\gamma\beta c B(s))$ which I'll just call $\tau^{*}(s)$. Then multiply by $\gamma$ to get into the lab frame $\tau(s) = \gamma \tau^{*}$. And let $ds=\beta c dt$.

$$dN/N = -\frac{ds/\beta c t}{\gamma \tau(\gamma \beta c B(s))} = -\frac{ds/\beta c t}{\gamma \tau(s)}$$

Now integrate both sides:

$$\ln(N(s)) - \ln(N_{0}) = \ln(N(s)/N_{0}) = -\int{\frac{ds}{\gamma \beta c \tau(s)}} $$

Finally:
$$N(s) = N_{0}e^{-\int{\frac{ds}{\gamma \beta c \tau}}}$$

If we want the probability of survival after a distance $s$:
$$P(s) = N(s)/N_{0} = e^{-\int{\frac{ds}{\gamma \beta c \tau(s)}}}$$


# The 'Compounding Probabilities' method:
This is how I started, and initially implemented things in MMA.
I'll skip straight to $P(s)$ for a constant lifetime (similar to above, but $\tau\neq \tau(s)$):
$$P(s) = e^{-s/\gamma \beta c \tau}$$

If you then specify that $\tau$ is a function of $s$ and assume that $\tau$(or the field) is constant over some small region $\Delta s_{i}$ and the probability of surviving through this region is:

$$P_{\Delta s_{i}} = e^{-\Delta s_{i}/\gamma \beta c \tau}$$

The total probability that the particle survives $N$ regions is just the product of the probabilities through each region:

$$P_{N} = P_{\Delta s_{1}} \times $P_{\Delta s_{2}} ... $P_{\Delta s_{N}} = \prod_{i=0}^{N}{P_{\Delta s_{i}}}$$

Which, when written explicitly becomes:

$$P_{N} = \prod_{i=0}^{N}{e^{-\Delta s_{i}/\gamma \beta c \tau(\Delta s)}} = e^{-\sum_{i=0}^{N}\Delta s_{i}/\gamma \beta c \tau(\Delta s)}$$

Where I've used the fact that:
$$e^{x}e^{y} = e^{x+y}$$


In the limit that $N\rightarrow \infty$ and $\Delta s\rightarrow0$ this reduces to the same result as above, namely:
$$P(s = N\Delta s) = e^{-\int{\frac{ds}{\gamma \beta c \tau(s)}}}$$


